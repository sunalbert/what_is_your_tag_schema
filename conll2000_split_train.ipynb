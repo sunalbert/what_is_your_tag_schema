{
 "cells": [
  {
   "cell_type": "code",
   "execution_count": 16,
   "metadata": {},
   "outputs": [],
   "source": [
    "train_file = 'conll_2000/train.txt'"
   ]
  },
  {
   "cell_type": "code",
   "execution_count": 17,
   "metadata": {},
   "outputs": [],
   "source": [
    "import os\n",
    "import re\n",
    "\n",
    "def load_data(file_path):\n",
    "    with open(file_path, \"r\", encoding=\"utf8\") as f:\n",
    "        raw_data = f.read()\n",
    "    data = []\n",
    "    for raw in raw_data.split(\"\\n\\n\"):\n",
    "        sent = []\n",
    "        raw = raw.strip()\n",
    "        if raw == '':\n",
    "            continue\n",
    "        for line in raw.split(\"\\n\"):\n",
    "            sent.append(line)\n",
    "        data.append(sent)\n",
    "    return data"
   ]
  },
  {
   "cell_type": "code",
   "execution_count": 19,
   "metadata": {},
   "outputs": [],
   "source": [
    "train_data = load_data(train_file)"
   ]
  },
  {
   "cell_type": "code",
   "execution_count": 20,
   "metadata": {},
   "outputs": [
    {
     "data": {
      "text/plain": [
       "8936"
      ]
     },
     "execution_count": 20,
     "metadata": {},
     "output_type": "execute_result"
    }
   ],
   "source": [
    "len(train_data)"
   ]
  },
  {
   "cell_type": "code",
   "execution_count": 21,
   "metadata": {},
   "outputs": [],
   "source": [
    "dev_ratio = 0.15\n",
    "dev_idx = int(len(train_data)*dev_ratio)\n",
    "dev_idx = 1000"
   ]
  },
  {
   "cell_type": "code",
   "execution_count": 22,
   "metadata": {},
   "outputs": [],
   "source": [
    "import random\n",
    "\n",
    "random.shuffle(train_data)"
   ]
  },
  {
   "cell_type": "code",
   "execution_count": 23,
   "metadata": {},
   "outputs": [],
   "source": [
    "train_data,dev_data = train_data[:-dev_idx],train_data[-dev_idx:]"
   ]
  },
  {
   "cell_type": "code",
   "execution_count": 24,
   "metadata": {},
   "outputs": [
    {
     "data": {
      "text/plain": [
       "(7936, 1000)"
      ]
     },
     "execution_count": 24,
     "metadata": {},
     "output_type": "execute_result"
    }
   ],
   "source": [
    "len(train_data),len(dev_data)"
   ]
  },
  {
   "cell_type": "code",
   "execution_count": 25,
   "metadata": {},
   "outputs": [],
   "source": [
    "def save_conll_format(file_path,data):\n",
    "    with open(file_path,'w',encoding='utf-8') as f:\n",
    "        for sent in data:\n",
    "            f.writelines('\\n'.join(sent))\n",
    "            f.write('\\n\\n')"
   ]
  },
  {
   "cell_type": "code",
   "execution_count": 26,
   "metadata": {},
   "outputs": [],
   "source": [
    "save_conll_format('conll_2000/train.txt',train_data)\n",
    "save_conll_format('conll_2000/dev.txt',dev_data)"
   ]
  },
  {
   "cell_type": "code",
   "execution_count": 43,
   "metadata": {},
   "outputs": [
    {
     "name": "stdout",
     "output_type": "stream",
     "text": [
      "总用量 3400\r\n",
      "-rwxrwxrwx 1 jasonhaven jasonhaven  320555 6月  18 15:52 dev.txt\r\n",
      "-rwxrwxrwx 1 jasonhaven jasonhaven  639396 6月  18 15:37 test.txt\r\n",
      "-rwxrwxrwx 1 jasonhaven jasonhaven 2512673 6月  18 15:52 train.txt\r\n"
     ]
    }
   ],
   "source": [
    "!ls conll_2000/ -l"
   ]
  },
  {
   "cell_type": "code",
   "execution_count": null,
   "metadata": {},
   "outputs": [],
   "source": []
  }
 ],
 "metadata": {
  "kernelspec": {
   "display_name": "Python 3",
   "language": "python",
   "name": "python3"
  },
  "language_info": {
   "codemirror_mode": {
    "name": "ipython",
    "version": 3
   },
   "file_extension": ".py",
   "mimetype": "text/x-python",
   "name": "python",
   "nbconvert_exporter": "python",
   "pygments_lexer": "ipython3",
   "version": "3.6.5"
  }
 },
 "nbformat": 4,
 "nbformat_minor": 2
}
